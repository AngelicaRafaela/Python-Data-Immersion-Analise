{
  "cells": [
    {
      "cell_type": "code",
      "execution_count": null,
      "metadata": {
        "id": "QU4Pg-pxobAK"
      },
      "outputs": [],
      "source": [
        "import pandas as pd"
      ]
    },
    {
      "cell_type": "code",
      "execution_count": null,
      "metadata": {
        "id": "ysRYrhOHrMi-"
      },
      "outputs": [],
      "source": [
        "df_principal = pd.read_excel(\"/content/acoes_pura.xlsx\", sheet_name=\"Principal\")\n",
        "df_principal"
      ]
    },
    {
      "cell_type": "code",
      "execution_count": null,
      "metadata": {
        "id": "mWy3x218rUK-"
      },
      "outputs": [],
      "source": [
        "df_total_acoes = pd.read_excel(\"/content/acoes_pura.xlsx\", sheet_name=\"Total_de_acoes\")\n",
        "df_total_acoes"
      ]
    },
    {
      "cell_type": "code",
      "execution_count": null,
      "metadata": {
        "id": "czCb2kUSrXRV"
      },
      "outputs": [],
      "source": [
        "df_ticker = pd.read_excel(\"/content/acoes_pura.xlsx\", sheet_name=\"Ticker\")\n",
        "df_ticker"
      ]
    },
    {
      "cell_type": "code",
      "execution_count": null,
      "metadata": {
        "id": "qh1_qfc7rXi1"
      },
      "outputs": [],
      "source": [
        "df_chatgpt = pd.read_excel(\"/content/acoes_pura.xlsx\", sheet_name=\"Chatgpt\")\n",
        "df_chatgpt"
      ]
    }
  ],
  "metadata": {
    "colab": {
      "provenance": []
    },
    "kernelspec": {
      "display_name": "Python 3",
      "name": "python3"
    },
    "language_info": {
      "name": "python",
      "version": "3.11.4"
    }
  },
  "nbformat": 4,
  "nbformat_minor": 0
}
